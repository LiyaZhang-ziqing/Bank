{
 "cells": [
  {
   "cell_type": "markdown",
   "metadata": {
    "cell_id": "00000-bd3e3e1c-fd82-4567-9be8-0d5501879b4d",
    "deepnote_cell_type": "markdown",
    "tags": []
   },
   "source": [
    "# Our goal is to build a model that predicts if the client will subscribe a term deposit.\n"
   ]
  },
  {
   "cell_type": "markdown",
   "metadata": {
    "cell_id": "00001-8641f444-1fd2-4f82-a932-7caa14161c46",
    "deepnote_cell_type": "markdown",
    "tags": []
   },
   "source": [
    "### Step 1: Load the dataset"
   ]
  },
  {
   "cell_type": "code",
   "execution_count": 1,
   "metadata": {
    "cell_id": "00000-8b5832d7-bc70-4774-ad1b-c7f1d3a16970",
    "deepnote_cell_type": "code",
    "execution_millis": 217,
    "execution_start": 1606920324206,
    "output_cleared": false,
    "source_hash": "88dc5548",
    "tags": []
   },
   "outputs": [
    {
     "name": "stdout",
     "output_type": "stream",
     "text": [
      "<class 'pandas.core.frame.DataFrame'>\n",
      "Int64Index: 41188 entries, 0 to 41187\n",
      "Data columns (total 21 columns):\n",
      " #   Column          Non-Null Count  Dtype  \n",
      "---  ------          --------------  -----  \n",
      " 0   age             41188 non-null  int64  \n",
      " 1   job             41188 non-null  object \n",
      " 2   marital         41188 non-null  object \n",
      " 3   education       41188 non-null  object \n",
      " 4   default         41188 non-null  object \n",
      " 5   housing         41188 non-null  object \n",
      " 6   loan            41188 non-null  object \n",
      " 7   contact         41188 non-null  object \n",
      " 8   month           41188 non-null  object \n",
      " 9   day_of_week     41188 non-null  object \n",
      " 10  duration        41188 non-null  int64  \n",
      " 11  campaign        41188 non-null  int64  \n",
      " 12  pdays           41188 non-null  int64  \n",
      " 13  previous        41188 non-null  int64  \n",
      " 14  poutcome        41188 non-null  object \n",
      " 15  emp.var.rate    41188 non-null  float64\n",
      " 16  cons.price.idx  41188 non-null  float64\n",
      " 17  cons.conf.idx   41188 non-null  float64\n",
      " 18  euribor3m       41188 non-null  float64\n",
      " 19  nr.employed     41188 non-null  float64\n",
      " 20  y               41188 non-null  object \n",
      "dtypes: float64(5), int64(5), object(11)\n",
      "memory usage: 6.9+ MB\n"
     ]
    }
   ],
   "source": [
    "import pandas as pd\n",
    "df = pd.read_csv('bank.csv')\n",
    "df = df.dropna()\n",
    "df.info()"
   ]
  },
  {
   "cell_type": "markdown",
   "metadata": {
    "cell_id": "00003-455590fe-d9f4-4c72-b43e-beaad2b9619e",
    "deepnote_cell_type": "markdown",
    "tags": []
   },
   "source": [
    "Here we can see that a lot of columns are shown as object data type, which means categorical. Some categorical columns need to be dropped and some categorical columns can be convert to boolean type."
   ]
  },
  {
   "cell_type": "markdown",
   "metadata": {
    "cell_id": "00004-a111063e-1d3a-47bc-9df3-a3dba769fc97",
    "deepnote_cell_type": "markdown",
    "tags": []
   },
   "source": [
    "### Step 2: Data cleaning."
   ]
  },
  {
   "cell_type": "markdown",
   "metadata": {
    "cell_id": "00004-08aea1a2-78f7-40c6-8e41-d408878d36bd",
    "deepnote_cell_type": "markdown",
    "tags": []
   },
   "source": [
    "We need to replace categorical columns with boolean or numerical values in order to use them in building the model."
   ]
  },
  {
   "cell_type": "code",
   "execution_count": 2,
   "metadata": {
    "cell_id": "00001-91cd3de2-e27f-48e7-a5f0-c919ea326d8c",
    "deepnote_cell_type": "code",
    "execution_millis": 343,
    "execution_start": 1606920327933,
    "output_cleared": false,
    "source_hash": "6a14545",
    "tags": []
   },
   "outputs": [
    {
     "data": {
      "application/vnd.deepnote.dataframe.v2+json": {
       "column_count": 18,
       "columns": [
        {
         "dtype": "int64",
         "name": "age",
         "stats": {
          "histogram": [
           {
            "bin_end": 39,
            "bin_start": 37,
            "count": 1
           },
           {
            "bin_end": 41,
            "bin_start": 39,
            "count": 1
           },
           {
            "bin_end": 43,
            "bin_start": 41,
            "count": 0
           },
           {
            "bin_end": 45,
            "bin_start": 43,
            "count": 0
           },
           {
            "bin_end": 47,
            "bin_start": 45,
            "count": 0
           },
           {
            "bin_end": 49,
            "bin_start": 47,
            "count": 0
           },
           {
            "bin_end": 51,
            "bin_start": 49,
            "count": 0
           },
           {
            "bin_end": 53,
            "bin_start": 51,
            "count": 0
           },
           {
            "bin_end": 55,
            "bin_start": 53,
            "count": 0
           },
           {
            "bin_end": 57,
            "bin_start": 55,
            "count": 3
           }
          ],
          "max": 57,
          "min": 37,
          "nan_count": 0,
          "unique_count": 4
         }
        },
        {
         "dtype": "int64",
         "name": "default",
         "stats": {
          "histogram": [
           {
            "bin_end": 0.2,
            "bin_start": 0,
            "count": 4
           },
           {
            "bin_end": 0.4,
            "bin_start": 0.2,
            "count": 0
           },
           {
            "bin_end": 0.6000000000000001,
            "bin_start": 0.4,
            "count": 0
           },
           {
            "bin_end": 0.8,
            "bin_start": 0.6000000000000001,
            "count": 0
           },
           {
            "bin_end": 1,
            "bin_start": 0.8,
            "count": 0
           },
           {
            "bin_end": 1.2000000000000002,
            "bin_start": 1,
            "count": 0
           },
           {
            "bin_end": 1.4000000000000001,
            "bin_start": 1.2000000000000002,
            "count": 0
           },
           {
            "bin_end": 1.6,
            "bin_start": 1.4000000000000001,
            "count": 0
           },
           {
            "bin_end": 1.8,
            "bin_start": 1.6,
            "count": 0
           },
           {
            "bin_end": 2,
            "bin_start": 1.8,
            "count": 1
           }
          ],
          "max": 2,
          "min": 0,
          "nan_count": 0,
          "unique_count": 2
         }
        },
        {
         "dtype": "int64",
         "name": "housing",
         "stats": {
          "histogram": [
           {
            "bin_end": 0.1,
            "bin_start": 0,
            "count": 4
           },
           {
            "bin_end": 0.2,
            "bin_start": 0.1,
            "count": 0
           },
           {
            "bin_end": 0.30000000000000004,
            "bin_start": 0.2,
            "count": 0
           },
           {
            "bin_end": 0.4,
            "bin_start": 0.30000000000000004,
            "count": 0
           },
           {
            "bin_end": 0.5,
            "bin_start": 0.4,
            "count": 0
           },
           {
            "bin_end": 0.6000000000000001,
            "bin_start": 0.5,
            "count": 0
           },
           {
            "bin_end": 0.7000000000000001,
            "bin_start": 0.6000000000000001,
            "count": 0
           },
           {
            "bin_end": 0.8,
            "bin_start": 0.7000000000000001,
            "count": 0
           },
           {
            "bin_end": 0.9,
            "bin_start": 0.8,
            "count": 0
           },
           {
            "bin_end": 1,
            "bin_start": 0.9,
            "count": 1
           }
          ],
          "max": 1,
          "min": 0,
          "nan_count": 0,
          "unique_count": 2
         }
        },
        {
         "dtype": "int64",
         "name": "loan",
         "stats": {
          "histogram": [
           {
            "bin_end": 0.1,
            "bin_start": 0,
            "count": 4
           },
           {
            "bin_end": 0.2,
            "bin_start": 0.1,
            "count": 0
           },
           {
            "bin_end": 0.30000000000000004,
            "bin_start": 0.2,
            "count": 0
           },
           {
            "bin_end": 0.4,
            "bin_start": 0.30000000000000004,
            "count": 0
           },
           {
            "bin_end": 0.5,
            "bin_start": 0.4,
            "count": 0
           },
           {
            "bin_end": 0.6000000000000001,
            "bin_start": 0.5,
            "count": 0
           },
           {
            "bin_end": 0.7000000000000001,
            "bin_start": 0.6000000000000001,
            "count": 0
           },
           {
            "bin_end": 0.8,
            "bin_start": 0.7000000000000001,
            "count": 0
           },
           {
            "bin_end": 0.9,
            "bin_start": 0.8,
            "count": 0
           },
           {
            "bin_end": 1,
            "bin_start": 0.9,
            "count": 1
           }
          ],
          "max": 1,
          "min": 0,
          "nan_count": 0,
          "unique_count": 2
         }
        },
        {
         "dtype": "int64",
         "name": "contact",
         "stats": {
          "histogram": [
           {
            "bin_end": -0.4,
            "bin_start": -0.5,
            "count": 0
           },
           {
            "bin_end": -0.3,
            "bin_start": -0.4,
            "count": 0
           },
           {
            "bin_end": -0.19999999999999996,
            "bin_start": -0.3,
            "count": 0
           },
           {
            "bin_end": -0.09999999999999998,
            "bin_start": -0.19999999999999996,
            "count": 0
           },
           {
            "bin_end": 0,
            "bin_start": -0.09999999999999998,
            "count": 0
           },
           {
            "bin_end": 0.10000000000000009,
            "bin_start": 0,
            "count": 5
           },
           {
            "bin_end": 0.20000000000000007,
            "bin_start": 0.10000000000000009,
            "count": 0
           },
           {
            "bin_end": 0.30000000000000004,
            "bin_start": 0.20000000000000007,
            "count": 0
           },
           {
            "bin_end": 0.4,
            "bin_start": 0.30000000000000004,
            "count": 0
           },
           {
            "bin_end": 0.5,
            "bin_start": 0.4,
            "count": 0
           }
          ],
          "max": 0,
          "min": 0,
          "nan_count": 0,
          "unique_count": 1
         }
        },
        {
         "dtype": "int64",
         "name": "month",
         "stats": {
          "histogram": [
           {
            "bin_end": 4.6,
            "bin_start": 4.5,
            "count": 0
           },
           {
            "bin_end": 4.7,
            "bin_start": 4.6,
            "count": 0
           },
           {
            "bin_end": 4.8,
            "bin_start": 4.7,
            "count": 0
           },
           {
            "bin_end": 4.9,
            "bin_start": 4.8,
            "count": 0
           },
           {
            "bin_end": 5,
            "bin_start": 4.9,
            "count": 0
           },
           {
            "bin_end": 5.1,
            "bin_start": 5,
            "count": 5
           },
           {
            "bin_end": 5.2,
            "bin_start": 5.1,
            "count": 0
           },
           {
            "bin_end": 5.3,
            "bin_start": 5.2,
            "count": 0
           },
           {
            "bin_end": 5.4,
            "bin_start": 5.3,
            "count": 0
           },
           {
            "bin_end": 5.5,
            "bin_start": 5.4,
            "count": 0
           }
          ],
          "max": 5,
          "min": 5,
          "nan_count": 0,
          "unique_count": 1
         }
        },
        {
         "dtype": "int64",
         "name": "day_of_week",
         "stats": {
          "histogram": [
           {
            "bin_end": 0.6,
            "bin_start": 0.5,
            "count": 0
           },
           {
            "bin_end": 0.7,
            "bin_start": 0.6,
            "count": 0
           },
           {
            "bin_end": 0.8,
            "bin_start": 0.7,
            "count": 0
           },
           {
            "bin_end": 0.9,
            "bin_start": 0.8,
            "count": 0
           },
           {
            "bin_end": 1,
            "bin_start": 0.9,
            "count": 0
           },
           {
            "bin_end": 1.1,
            "bin_start": 1,
            "count": 5
           },
           {
            "bin_end": 1.2000000000000002,
            "bin_start": 1.1,
            "count": 0
           },
           {
            "bin_end": 1.3,
            "bin_start": 1.2000000000000002,
            "count": 0
           },
           {
            "bin_end": 1.4,
            "bin_start": 1.3,
            "count": 0
           },
           {
            "bin_end": 1.5,
            "bin_start": 1.4,
            "count": 0
           }
          ],
          "max": 1,
          "min": 1,
          "nan_count": 0,
          "unique_count": 1
         }
        },
        {
         "dtype": "int64",
         "name": "duration",
         "stats": {
          "histogram": [
           {
            "bin_end": 164.8,
            "bin_start": 149,
            "count": 2
           },
           {
            "bin_end": 180.6,
            "bin_start": 164.8,
            "count": 0
           },
           {
            "bin_end": 196.4,
            "bin_start": 180.6,
            "count": 0
           },
           {
            "bin_end": 212.2,
            "bin_start": 196.4,
            "count": 0
           },
           {
            "bin_end": 228,
            "bin_start": 212.2,
            "count": 1
           },
           {
            "bin_end": 243.8,
            "bin_start": 228,
            "count": 0
           },
           {
            "bin_end": 259.6,
            "bin_start": 243.8,
            "count": 0
           },
           {
            "bin_end": 275.4,
            "bin_start": 259.6,
            "count": 1
           },
           {
            "bin_end": 291.20000000000005,
            "bin_start": 275.4,
            "count": 0
           },
           {
            "bin_end": 307,
            "bin_start": 291.20000000000005,
            "count": 1
           }
          ],
          "max": 307,
          "min": 149,
          "nan_count": 0,
          "unique_count": 5
         }
        },
        {
         "dtype": "int64",
         "name": "campaign",
         "stats": {
          "histogram": [
           {
            "bin_end": 0.6,
            "bin_start": 0.5,
            "count": 0
           },
           {
            "bin_end": 0.7,
            "bin_start": 0.6,
            "count": 0
           },
           {
            "bin_end": 0.8,
            "bin_start": 0.7,
            "count": 0
           },
           {
            "bin_end": 0.9,
            "bin_start": 0.8,
            "count": 0
           },
           {
            "bin_end": 1,
            "bin_start": 0.9,
            "count": 0
           },
           {
            "bin_end": 1.1,
            "bin_start": 1,
            "count": 5
           },
           {
            "bin_end": 1.2000000000000002,
            "bin_start": 1.1,
            "count": 0
           },
           {
            "bin_end": 1.3,
            "bin_start": 1.2000000000000002,
            "count": 0
           },
           {
            "bin_end": 1.4,
            "bin_start": 1.3,
            "count": 0
           },
           {
            "bin_end": 1.5,
            "bin_start": 1.4,
            "count": 0
           }
          ],
          "max": 1,
          "min": 1,
          "nan_count": 0,
          "unique_count": 1
         }
        },
        {
         "dtype": "int64",
         "name": "pdays",
         "stats": {
          "histogram": [
           {
            "bin_end": 998.6,
            "bin_start": 998.5,
            "count": 0
           },
           {
            "bin_end": 998.7,
            "bin_start": 998.6,
            "count": 0
           },
           {
            "bin_end": 998.8,
            "bin_start": 998.7,
            "count": 0
           },
           {
            "bin_end": 998.9,
            "bin_start": 998.8,
            "count": 0
           },
           {
            "bin_end": 999,
            "bin_start": 998.9,
            "count": 0
           },
           {
            "bin_end": 999.1,
            "bin_start": 999,
            "count": 5
           },
           {
            "bin_end": 999.2,
            "bin_start": 999.1,
            "count": 0
           },
           {
            "bin_end": 999.3,
            "bin_start": 999.2,
            "count": 0
           },
           {
            "bin_end": 999.4,
            "bin_start": 999.3,
            "count": 0
           },
           {
            "bin_end": 999.5,
            "bin_start": 999.4,
            "count": 0
           }
          ],
          "max": 999,
          "min": 999,
          "nan_count": 0,
          "unique_count": 1
         }
        },
        {
         "dtype": "int64",
         "name": "previous",
         "stats": {
          "histogram": [
           {
            "bin_end": -0.4,
            "bin_start": -0.5,
            "count": 0
           },
           {
            "bin_end": -0.3,
            "bin_start": -0.4,
            "count": 0
           },
           {
            "bin_end": -0.19999999999999996,
            "bin_start": -0.3,
            "count": 0
           },
           {
            "bin_end": -0.09999999999999998,
            "bin_start": -0.19999999999999996,
            "count": 0
           },
           {
            "bin_end": 0,
            "bin_start": -0.09999999999999998,
            "count": 0
           },
           {
            "bin_end": 0.10000000000000009,
            "bin_start": 0,
            "count": 5
           },
           {
            "bin_end": 0.20000000000000007,
            "bin_start": 0.10000000000000009,
            "count": 0
           },
           {
            "bin_end": 0.30000000000000004,
            "bin_start": 0.20000000000000007,
            "count": 0
           },
           {
            "bin_end": 0.4,
            "bin_start": 0.30000000000000004,
            "count": 0
           },
           {
            "bin_end": 0.5,
            "bin_start": 0.4,
            "count": 0
           }
          ],
          "max": 0,
          "min": 0,
          "nan_count": 0,
          "unique_count": 1
         }
        },
        {
         "dtype": "int64",
         "name": "poutcome",
         "stats": {
          "histogram": [
           {
            "bin_end": 1.6,
            "bin_start": 1.5,
            "count": 0
           },
           {
            "bin_end": 1.7,
            "bin_start": 1.6,
            "count": 0
           },
           {
            "bin_end": 1.8,
            "bin_start": 1.7,
            "count": 0
           },
           {
            "bin_end": 1.9,
            "bin_start": 1.8,
            "count": 0
           },
           {
            "bin_end": 2,
            "bin_start": 1.9,
            "count": 0
           },
           {
            "bin_end": 2.1,
            "bin_start": 2,
            "count": 5
           },
           {
            "bin_end": 2.2,
            "bin_start": 2.1,
            "count": 0
           },
           {
            "bin_end": 2.3,
            "bin_start": 2.2,
            "count": 0
           },
           {
            "bin_end": 2.4,
            "bin_start": 2.3,
            "count": 0
           },
           {
            "bin_end": 2.5,
            "bin_start": 2.4,
            "count": 0
           }
          ],
          "max": 2,
          "min": 2,
          "nan_count": 0,
          "unique_count": 1
         }
        },
        {
         "dtype": "float64",
         "name": "emp.var.rate",
         "stats": {
          "histogram": [
           {
            "bin_end": 0.7000000000000001,
            "bin_start": 0.6000000000000001,
            "count": 0
           },
           {
            "bin_end": 0.8,
            "bin_start": 0.7000000000000001,
            "count": 0
           },
           {
            "bin_end": 0.9000000000000001,
            "bin_start": 0.8,
            "count": 0
           },
           {
            "bin_end": 1,
            "bin_start": 0.9000000000000001,
            "count": 0
           },
           {
            "bin_end": 1.1,
            "bin_start": 1,
            "count": 0
           },
           {
            "bin_end": 1.2000000000000002,
            "bin_start": 1.1,
            "count": 5
           },
           {
            "bin_end": 1.3000000000000003,
            "bin_start": 1.2000000000000002,
            "count": 0
           },
           {
            "bin_end": 1.4000000000000001,
            "bin_start": 1.3000000000000003,
            "count": 0
           },
           {
            "bin_end": 1.5,
            "bin_start": 1.4000000000000001,
            "count": 0
           },
           {
            "bin_end": 1.6,
            "bin_start": 1.5,
            "count": 0
           }
          ],
          "max": 1.1,
          "min": 1.1,
          "nan_count": 0,
          "unique_count": 1
         }
        },
        {
         "dtype": "float64",
         "name": "cons.price.idx",
         "stats": {
          "histogram": [
           {
            "bin_end": 93.594,
            "bin_start": 93.494,
            "count": 0
           },
           {
            "bin_end": 93.694,
            "bin_start": 93.594,
            "count": 0
           },
           {
            "bin_end": 93.794,
            "bin_start": 93.694,
            "count": 0
           },
           {
            "bin_end": 93.894,
            "bin_start": 93.794,
            "count": 0
           },
           {
            "bin_end": 93.994,
            "bin_start": 93.894,
            "count": 0
           },
           {
            "bin_end": 94.094,
            "bin_start": 93.994,
            "count": 5
           },
           {
            "bin_end": 94.194,
            "bin_start": 94.094,
            "count": 0
           },
           {
            "bin_end": 94.294,
            "bin_start": 94.194,
            "count": 0
           },
           {
            "bin_end": 94.394,
            "bin_start": 94.294,
            "count": 0
           },
           {
            "bin_end": 94.494,
            "bin_start": 94.394,
            "count": 0
           }
          ],
          "max": 93.994,
          "min": 93.994,
          "nan_count": 0,
          "unique_count": 1
         }
        },
        {
         "dtype": "float64",
         "name": "cons.conf.idx",
         "stats": {
          "histogram": [
           {
            "bin_end": -36.8,
            "bin_start": -36.9,
            "count": 0
           },
           {
            "bin_end": -36.699999999999996,
            "bin_start": -36.8,
            "count": 0
           },
           {
            "bin_end": -36.6,
            "bin_start": -36.699999999999996,
            "count": 0
           },
           {
            "bin_end": -36.5,
            "bin_start": -36.6,
            "count": 0
           },
           {
            "bin_end": -36.4,
            "bin_start": -36.5,
            "count": 0
           },
           {
            "bin_end": -36.3,
            "bin_start": -36.4,
            "count": 5
           },
           {
            "bin_end": -36.199999999999996,
            "bin_start": -36.3,
            "count": 0
           },
           {
            "bin_end": -36.1,
            "bin_start": -36.199999999999996,
            "count": 0
           },
           {
            "bin_end": -36,
            "bin_start": -36.1,
            "count": 0
           },
           {
            "bin_end": -35.9,
            "bin_start": -36,
            "count": 0
           }
          ],
          "max": -36.4,
          "min": -36.4,
          "nan_count": 0,
          "unique_count": 1
         }
        },
        {
         "dtype": "float64",
         "name": "euribor3m",
         "stats": {
          "histogram": [
           {
            "bin_end": 4.457,
            "bin_start": 4.357,
            "count": 0
           },
           {
            "bin_end": 4.557,
            "bin_start": 4.457,
            "count": 0
           },
           {
            "bin_end": 4.657,
            "bin_start": 4.557,
            "count": 0
           },
           {
            "bin_end": 4.757000000000001,
            "bin_start": 4.657,
            "count": 0
           },
           {
            "bin_end": 4.857,
            "bin_start": 4.757000000000001,
            "count": 0
           },
           {
            "bin_end": 4.957000000000001,
            "bin_start": 4.857,
            "count": 5
           },
           {
            "bin_end": 5.057,
            "bin_start": 4.957000000000001,
            "count": 0
           },
           {
            "bin_end": 5.157,
            "bin_start": 5.057,
            "count": 0
           },
           {
            "bin_end": 5.257000000000001,
            "bin_start": 5.157,
            "count": 0
           },
           {
            "bin_end": 5.357,
            "bin_start": 5.257000000000001,
            "count": 0
           }
          ],
          "max": 4.857,
          "min": 4.857,
          "nan_count": 0,
          "unique_count": 1
         }
        },
        {
         "dtype": "float64",
         "name": "nr.employed",
         "stats": {
          "histogram": [
           {
            "bin_end": 5190.6,
            "bin_start": 5190.5,
            "count": 0
           },
           {
            "bin_end": 5190.7,
            "bin_start": 5190.6,
            "count": 0
           },
           {
            "bin_end": 5190.8,
            "bin_start": 5190.7,
            "count": 0
           },
           {
            "bin_end": 5190.9,
            "bin_start": 5190.8,
            "count": 0
           },
           {
            "bin_end": 5191,
            "bin_start": 5190.9,
            "count": 0
           },
           {
            "bin_end": 5191.1,
            "bin_start": 5191,
            "count": 5
           },
           {
            "bin_end": 5191.2,
            "bin_start": 5191.1,
            "count": 0
           },
           {
            "bin_end": 5191.3,
            "bin_start": 5191.2,
            "count": 0
           },
           {
            "bin_end": 5191.4,
            "bin_start": 5191.3,
            "count": 0
           },
           {
            "bin_end": 5191.5,
            "bin_start": 5191.4,
            "count": 0
           }
          ],
          "max": 5191,
          "min": 5191,
          "nan_count": 0,
          "unique_count": 1
         }
        },
        {
         "dtype": "int64",
         "name": "y",
         "stats": {
          "histogram": [
           {
            "bin_end": -0.4,
            "bin_start": -0.5,
            "count": 0
           },
           {
            "bin_end": -0.3,
            "bin_start": -0.4,
            "count": 0
           },
           {
            "bin_end": -0.19999999999999996,
            "bin_start": -0.3,
            "count": 0
           },
           {
            "bin_end": -0.09999999999999998,
            "bin_start": -0.19999999999999996,
            "count": 0
           },
           {
            "bin_end": 0,
            "bin_start": -0.09999999999999998,
            "count": 0
           },
           {
            "bin_end": 0.10000000000000009,
            "bin_start": 0,
            "count": 5
           },
           {
            "bin_end": 0.20000000000000007,
            "bin_start": 0.10000000000000009,
            "count": 0
           },
           {
            "bin_end": 0.30000000000000004,
            "bin_start": 0.20000000000000007,
            "count": 0
           },
           {
            "bin_end": 0.4,
            "bin_start": 0.30000000000000004,
            "count": 0
           },
           {
            "bin_end": 0.5,
            "bin_start": 0.4,
            "count": 0
           }
          ],
          "max": 0,
          "min": 0,
          "nan_count": 0,
          "unique_count": 1
         }
        },
        {
         "dtype": "int64",
         "name": "_deepnote_index_column"
        }
       ],
       "row_count": 5,
       "rows_bottom": null,
       "rows_top": [
        {
         "_deepnote_index_column": 0,
         "age": 56,
         "campaign": 1,
         "cons.conf.idx": -36.4,
         "cons.price.idx": 93.994,
         "contact": 0,
         "day_of_week": 1,
         "default": 0,
         "duration": 261,
         "emp.var.rate": 1.1,
         "euribor3m": 4.857,
         "housing": 0,
         "loan": 0,
         "month": 5,
         "nr.employed": 5191,
         "pdays": 999,
         "poutcome": 2,
         "previous": 0,
         "y": 0
        },
        {
         "_deepnote_index_column": 1,
         "age": 57,
         "campaign": 1,
         "cons.conf.idx": -36.4,
         "cons.price.idx": 93.994,
         "contact": 0,
         "day_of_week": 1,
         "default": 2,
         "duration": 149,
         "emp.var.rate": 1.1,
         "euribor3m": 4.857,
         "housing": 0,
         "loan": 0,
         "month": 5,
         "nr.employed": 5191,
         "pdays": 999,
         "poutcome": 2,
         "previous": 0,
         "y": 0
        },
        {
         "_deepnote_index_column": 2,
         "age": 37,
         "campaign": 1,
         "cons.conf.idx": -36.4,
         "cons.price.idx": 93.994,
         "contact": 0,
         "day_of_week": 1,
         "default": 0,
         "duration": 226,
         "emp.var.rate": 1.1,
         "euribor3m": 4.857,
         "housing": 1,
         "loan": 0,
         "month": 5,
         "nr.employed": 5191,
         "pdays": 999,
         "poutcome": 2,
         "previous": 0,
         "y": 0
        },
        {
         "_deepnote_index_column": 3,
         "age": 40,
         "campaign": 1,
         "cons.conf.idx": -36.4,
         "cons.price.idx": 93.994,
         "contact": 0,
         "day_of_week": 1,
         "default": 0,
         "duration": 151,
         "emp.var.rate": 1.1,
         "euribor3m": 4.857,
         "housing": 0,
         "loan": 0,
         "month": 5,
         "nr.employed": 5191,
         "pdays": 999,
         "poutcome": 2,
         "previous": 0,
         "y": 0
        },
        {
         "_deepnote_index_column": 4,
         "age": 56,
         "campaign": 1,
         "cons.conf.idx": -36.4,
         "cons.price.idx": 93.994,
         "contact": 0,
         "day_of_week": 1,
         "default": 0,
         "duration": 307,
         "emp.var.rate": 1.1,
         "euribor3m": 4.857,
         "housing": 0,
         "loan": 1,
         "month": 5,
         "nr.employed": 5191,
         "pdays": 999,
         "poutcome": 2,
         "previous": 0,
         "y": 0
        }
       ]
      },
      "text/html": [
       "<div>\n",
       "<style scoped>\n",
       "    .dataframe tbody tr th:only-of-type {\n",
       "        vertical-align: middle;\n",
       "    }\n",
       "\n",
       "    .dataframe tbody tr th {\n",
       "        vertical-align: top;\n",
       "    }\n",
       "\n",
       "    .dataframe thead th {\n",
       "        text-align: right;\n",
       "    }\n",
       "</style>\n",
       "<table border=\"1\" class=\"dataframe\">\n",
       "  <thead>\n",
       "    <tr style=\"text-align: right;\">\n",
       "      <th></th>\n",
       "      <th>age</th>\n",
       "      <th>default</th>\n",
       "      <th>housing</th>\n",
       "      <th>loan</th>\n",
       "      <th>contact</th>\n",
       "      <th>month</th>\n",
       "      <th>day_of_week</th>\n",
       "      <th>duration</th>\n",
       "      <th>campaign</th>\n",
       "      <th>pdays</th>\n",
       "      <th>previous</th>\n",
       "      <th>poutcome</th>\n",
       "      <th>emp.var.rate</th>\n",
       "      <th>cons.price.idx</th>\n",
       "      <th>cons.conf.idx</th>\n",
       "      <th>euribor3m</th>\n",
       "      <th>nr.employed</th>\n",
       "      <th>y</th>\n",
       "    </tr>\n",
       "  </thead>\n",
       "  <tbody>\n",
       "    <tr>\n",
       "      <th>0</th>\n",
       "      <td>56</td>\n",
       "      <td>0</td>\n",
       "      <td>0</td>\n",
       "      <td>0</td>\n",
       "      <td>0</td>\n",
       "      <td>5</td>\n",
       "      <td>1</td>\n",
       "      <td>261</td>\n",
       "      <td>1</td>\n",
       "      <td>999</td>\n",
       "      <td>0</td>\n",
       "      <td>2</td>\n",
       "      <td>1.1</td>\n",
       "      <td>93.994</td>\n",
       "      <td>-36.4</td>\n",
       "      <td>4.857</td>\n",
       "      <td>5191.0</td>\n",
       "      <td>0</td>\n",
       "    </tr>\n",
       "    <tr>\n",
       "      <th>1</th>\n",
       "      <td>57</td>\n",
       "      <td>2</td>\n",
       "      <td>0</td>\n",
       "      <td>0</td>\n",
       "      <td>0</td>\n",
       "      <td>5</td>\n",
       "      <td>1</td>\n",
       "      <td>149</td>\n",
       "      <td>1</td>\n",
       "      <td>999</td>\n",
       "      <td>0</td>\n",
       "      <td>2</td>\n",
       "      <td>1.1</td>\n",
       "      <td>93.994</td>\n",
       "      <td>-36.4</td>\n",
       "      <td>4.857</td>\n",
       "      <td>5191.0</td>\n",
       "      <td>0</td>\n",
       "    </tr>\n",
       "    <tr>\n",
       "      <th>2</th>\n",
       "      <td>37</td>\n",
       "      <td>0</td>\n",
       "      <td>1</td>\n",
       "      <td>0</td>\n",
       "      <td>0</td>\n",
       "      <td>5</td>\n",
       "      <td>1</td>\n",
       "      <td>226</td>\n",
       "      <td>1</td>\n",
       "      <td>999</td>\n",
       "      <td>0</td>\n",
       "      <td>2</td>\n",
       "      <td>1.1</td>\n",
       "      <td>93.994</td>\n",
       "      <td>-36.4</td>\n",
       "      <td>4.857</td>\n",
       "      <td>5191.0</td>\n",
       "      <td>0</td>\n",
       "    </tr>\n",
       "    <tr>\n",
       "      <th>3</th>\n",
       "      <td>40</td>\n",
       "      <td>0</td>\n",
       "      <td>0</td>\n",
       "      <td>0</td>\n",
       "      <td>0</td>\n",
       "      <td>5</td>\n",
       "      <td>1</td>\n",
       "      <td>151</td>\n",
       "      <td>1</td>\n",
       "      <td>999</td>\n",
       "      <td>0</td>\n",
       "      <td>2</td>\n",
       "      <td>1.1</td>\n",
       "      <td>93.994</td>\n",
       "      <td>-36.4</td>\n",
       "      <td>4.857</td>\n",
       "      <td>5191.0</td>\n",
       "      <td>0</td>\n",
       "    </tr>\n",
       "    <tr>\n",
       "      <th>4</th>\n",
       "      <td>56</td>\n",
       "      <td>0</td>\n",
       "      <td>0</td>\n",
       "      <td>1</td>\n",
       "      <td>0</td>\n",
       "      <td>5</td>\n",
       "      <td>1</td>\n",
       "      <td>307</td>\n",
       "      <td>1</td>\n",
       "      <td>999</td>\n",
       "      <td>0</td>\n",
       "      <td>2</td>\n",
       "      <td>1.1</td>\n",
       "      <td>93.994</td>\n",
       "      <td>-36.4</td>\n",
       "      <td>4.857</td>\n",
       "      <td>5191.0</td>\n",
       "      <td>0</td>\n",
       "    </tr>\n",
       "  </tbody>\n",
       "</table>\n",
       "</div>"
      ],
      "text/plain": [
       "   age  default  housing  loan  contact  month  day_of_week  duration  \\\n",
       "0   56        0        0     0        0      5            1       261   \n",
       "1   57        2        0     0        0      5            1       149   \n",
       "2   37        0        1     0        0      5            1       226   \n",
       "3   40        0        0     0        0      5            1       151   \n",
       "4   56        0        0     1        0      5            1       307   \n",
       "\n",
       "   campaign  pdays  previous  poutcome  emp.var.rate  cons.price.idx  \\\n",
       "0         1    999         0         2           1.1          93.994   \n",
       "1         1    999         0         2           1.1          93.994   \n",
       "2         1    999         0         2           1.1          93.994   \n",
       "3         1    999         0         2           1.1          93.994   \n",
       "4         1    999         0         2           1.1          93.994   \n",
       "\n",
       "   cons.conf.idx  euribor3m  nr.employed  y  \n",
       "0          -36.4      4.857       5191.0  0  \n",
       "1          -36.4      4.857       5191.0  0  \n",
       "2          -36.4      4.857       5191.0  0  \n",
       "3          -36.4      4.857       5191.0  0  \n",
       "4          -36.4      4.857       5191.0  0  "
      ]
     },
     "execution_count": 2,
     "metadata": {},
     "output_type": "execute_result"
    }
   ],
   "source": [
    "#Drop categorical variables\n",
    "df = df.drop(['job', 'marital', 'education'], axis=1)\n",
    "#Replace categorical columns with boolean or numerical values\n",
    "df = df.replace({'default': {'yes': 1, 'no': 0, 'unknown': 2}})\n",
    "df = df.replace({'housing': {'yes': 1, 'no': 0, 'unknown': 2}})\n",
    "df = df.replace({'loan': {'yes': 1, 'no': 0, 'unknown': 2}})\n",
    "df = df.replace({'contact': {'cellular': 1, 'telephone': 0}})\n",
    "df = df.replace({'month': {'jan':1, 'feb':2, 'mar':3, 'apr':4, 'may':5, 'jun':6, 'jul':7, 'aug':8, 'sep':9, 'oct':10, 'nov':11, 'dec':12}})\n",
    "df = df.replace({'day_of_week': {'mon':1, 'tue':2, 'wed':3, 'thu':4, 'fri':5, 'sat':6, 'sun':7}})\n",
    "df = df.replace({'poutcome': {'success': 1, 'failure': 0, 'nonexistent': 2}})\n",
    "df = df.replace({'y': {'yes': 1, 'no': 0}})\n",
    "df.head()"
   ]
  },
  {
   "cell_type": "markdown",
   "metadata": {
    "cell_id": "00007-6d551d36-aca4-409a-bd33-9ab31ffd3011",
    "deepnote_cell_type": "markdown",
    "tags": []
   },
   "source": [
    "Now we have all columns with numerical values and ready to create the model."
   ]
  },
  {
   "cell_type": "markdown",
   "metadata": {
    "cell_id": "00008-922a6180-7bb5-444d-903b-20654dab17ae",
    "deepnote_cell_type": "markdown",
    "tags": []
   },
   "source": [
    "### Step 3: Split the dataset into 2 parts, 60% training data, 40% validation data.\n"
   ]
  },
  {
   "cell_type": "code",
   "execution_count": 3,
   "metadata": {
    "cell_id": "00005-24578df0-0dd9-4a93-9790-25a9c0473df2",
    "deepnote_cell_type": "code",
    "execution_millis": 1,
    "execution_start": 1606920428661,
    "output_cleared": false,
    "source_hash": "2f88c77a",
    "tags": []
   },
   "outputs": [
    {
     "data": {
      "text/plain": [
       "41188"
      ]
     },
     "execution_count": 3,
     "metadata": {},
     "output_type": "execute_result"
    }
   ],
   "source": [
    "len(df)"
   ]
  },
  {
   "cell_type": "markdown",
   "metadata": {
    "cell_id": "00010-8ff24165-7b38-46a3-95ec-54fa9f16245c",
    "deepnote_cell_type": "markdown",
    "tags": []
   },
   "source": [
    "Right now, the whole dataset contains 41188 observations. We can put 24712 observations into training data, and 16476 observations into validation data."
   ]
  },
  {
   "cell_type": "code",
   "execution_count": 4,
   "metadata": {
    "cell_id": "00005-4cdb793a-ca34-445e-b72f-e865ab522c03",
    "deepnote_cell_type": "code",
    "execution_millis": 16,
    "execution_start": 1606920902865,
    "output_cleared": false,
    "source_hash": "87c2eb61",
    "tags": []
   },
   "outputs": [
    {
     "data": {
      "text/plain": [
       "(24712, 16476)"
      ]
     },
     "execution_count": 4,
     "metadata": {},
     "output_type": "execute_result"
    }
   ],
   "source": [
    "import numpy as np\n",
    "rows_for_training = np.random.choice( df.index, 24712, False )\n",
    "training = df.index.isin(rows_for_training)\n",
    "df_training = df[training]\n",
    "df_validation = df[~training]\n",
    "len(df_training), len(df_validation)"
   ]
  },
  {
   "cell_type": "markdown",
   "metadata": {
    "cell_id": "00012-266eb3f6-1148-49a0-9455-a0dd381dc43d",
    "deepnote_cell_type": "markdown",
    "tags": []
   },
   "source": [
    "This code is being created by first generating 24712 random rows to df_training dataframe. And the rest will be put into df_validation dataframe. This gives us about 60% training set and 40% validation set."
   ]
  },
  {
   "cell_type": "markdown",
   "metadata": {
    "cell_id": "00012-097b7bee-bd3e-4401-a801-fb29f9c07747",
    "deepnote_cell_type": "markdown",
    "tags": []
   },
   "source": [
    "### Step 4: Create a model using the training dataset using the scikit-learn's logistic regression tool. And test the model using the validation dataset."
   ]
  },
  {
   "cell_type": "code",
   "execution_count": 5,
   "metadata": {
    "cell_id": "00007-eacfd18b-1b54-48e6-8a4e-c0c29791c1f9",
    "deepnote_cell_type": "code",
    "execution_millis": 2553,
    "execution_start": 1606920997497,
    "output_cleared": false,
    "source_hash": "61924d51",
    "tags": []
   },
   "outputs": [
    {
     "name": "stderr",
     "output_type": "stream",
     "text": [
      "/opt/venv/lib/python3.7/site-packages/sklearn/linear_model/_logistic.py:764: ConvergenceWarning: lbfgs failed to converge (status=1):\n",
      "STOP: TOTAL NO. of ITERATIONS REACHED LIMIT.\n",
      "\n",
      "Increase the number of iterations (max_iter) or scale the data as shown in:\n",
      "    https://scikit-learn.org/stable/modules/preprocessing.html\n",
      "Please also refer to the documentation for alternative solver options:\n",
      "    https://scikit-learn.org/stable/modules/linear_model.html#logistic-regression\n",
      "  extra_warning_msg=_LOGISTIC_SOLVER_CONVERGENCE_MSG)\n"
     ]
    },
    {
     "data": {
      "text/plain": [
       "(0.4971327745919718, 0.5019011406844106)"
      ]
     },
     "execution_count": 5,
     "metadata": {},
     "output_type": "execute_result"
    }
   ],
   "source": [
    "from sklearn.linear_model import LogisticRegression\n",
    "def fit_model_to (training):\n",
    "    predictors = training.iloc[:,:-1]\n",
    "    response = training.iloc[:,-1]\n",
    "    model = LogisticRegression()\n",
    "    model.fit(predictors, response)\n",
    "    return model\n",
    "\n",
    "def score_model (M, validation):\n",
    "    predictions = M.predict(validation.iloc[:,:-1] )\n",
    "    TP = (validation['y'] & predictions).sum()\n",
    "    FP = (~validation['y'] & predictions).sum()\n",
    "    FN = (validation['y'] & ~predictions).sum()\n",
    "    precision = TP / (TP + FP)\n",
    "    recall = TP / (TP + FN)\n",
    "    return 2 * precision * recall / (precision + recall)\n",
    "\n",
    "model = fit_model_to(df_training)\n",
    "score_model(model, df_training), score_model(model, df_validation)"
   ]
  },
  {
   "cell_type": "markdown",
   "metadata": {
    "cell_id": "00014-a06dcd00-5a9e-41ba-8261-8b552f6665d5",
    "deepnote_cell_type": "markdown",
    "tags": []
   },
   "source": [
    "The values retured are the F1 score from training dataset and validation dataset. F1 score represents how good our model is by using the precision and recall values. We can see that both F1 score for training and validation datasets are relatively low. Possible reason is that we have high number of predictor variables. It's likely that some of predictors do not predict our response variable well. "
   ]
  },
  {
   "cell_type": "markdown",
   "metadata": {
    "cell_id": "00015-aba8586a-50b1-45f1-9e5f-8bd57e9e98aa",
    "deepnote_cell_type": "markdown",
    "tags": []
   },
   "source": [
    "### Step 5: Create a better model to predict the response variable."
   ]
  },
  {
   "cell_type": "code",
   "execution_count": 6,
   "metadata": {
    "cell_id": "00008-11d14635-7622-4402-ae29-4758c04290ad",
    "deepnote_cell_type": "code",
    "execution_millis": 2286,
    "execution_start": 1606921026689,
    "output_cleared": false,
    "source_hash": "fec98d50",
    "tags": []
   },
   "outputs": [
    {
     "name": "stderr",
     "output_type": "stream",
     "text": [
      "/opt/venv/lib/python3.7/site-packages/sklearn/linear_model/_logistic.py:764: ConvergenceWarning: lbfgs failed to converge (status=1):\n",
      "STOP: TOTAL NO. of ITERATIONS REACHED LIMIT.\n",
      "\n",
      "Increase the number of iterations (max_iter) or scale the data as shown in:\n",
      "    https://scikit-learn.org/stable/modules/preprocessing.html\n",
      "Please also refer to the documentation for alternative solver options:\n",
      "    https://scikit-learn.org/stable/modules/linear_model.html#logistic-regression\n",
      "  extra_warning_msg=_LOGISTIC_SOLVER_CONVERGENCE_MSG)\n",
      "emp.var.rate     -1.344532\n",
      "duration          1.152690\n",
      "cons.price.idx    0.587667\n",
      "euribor3m         0.558025\n",
      "nr.employed      -0.538965\n",
      "contact           0.466749\n",
      "pdays            -0.306265\n",
      "cons.conf.idx     0.201882\n",
      "default          -0.186847\n",
      "poutcome          0.178152\n",
      "month            -0.089427\n",
      "campaign         -0.081138\n",
      "age               0.036962\n",
      "previous         -0.021448\n",
      "loan             -0.021247\n",
      "housing           0.020483\n",
      "day_of_week       0.002305\n",
      "dtype: float64\n",
      "0.4971327745919718 0.5019011406844106\n"
     ]
    }
   ],
   "source": [
    "def fit_model_to (training):\n",
    "    # fit the model the same way as step 4\n",
    "    predictors = training.iloc[:,:-1]\n",
    "    response = training.iloc[:,-1]\n",
    "    model = LogisticRegression()\n",
    "    model.fit(predictors, response)\n",
    "    # fit another model to standardized predictors in order to compare the coefficients with the same scale\n",
    "    standardized = (predictors - predictors.mean()) / predictors.std()\n",
    "    standard_model = LogisticRegression()\n",
    "    standard_model.fit(standardized, response)\n",
    "    # get that model's coefficients and display them\n",
    "    coeffs = pd.Series(standard_model.coef_[0], index=predictors.columns)\n",
    "    sorted = np.abs(coeffs).sort_values( ascending=False )  # sort the coefficients from the most important to the least\n",
    "    coeffs = coeffs.loc[sorted.index]                        \n",
    "    print(coeffs)\n",
    "    # return the model fit to the actual predictors\n",
    "    return model\n",
    "\n",
    "\n",
    "model = fit_model_to(df_training)\n",
    "print(score_model(model, df_training), score_model(model, df_validation))"
   ]
  },
  {
   "cell_type": "markdown",
   "metadata": {
    "cell_id": "00018-c4c11f4c-a52d-4827-a353-28fa0014ed0c",
    "deepnote_cell_type": "markdown",
    "tags": []
   },
   "source": [
    "Here the coefficients are sorted in order of their importance to predict the model. We can perform a series of trial and error to see which columns to keep in the modeling in order to perform a higher F1 score."
   ]
  },
  {
   "cell_type": "code",
   "execution_count": 170,
   "metadata": {
    "cell_id": "00021-73ae4a95-3330-4503-befd-d1d4c5507c36",
    "deepnote_cell_type": "code",
    "execution_millis": 1749,
    "execution_start": 1606923498173,
    "output_cleared": false,
    "source_hash": "f385d7aa",
    "tags": []
   },
   "outputs": [
    {
     "name": "stderr",
     "output_type": "stream",
     "text": [
      "/opt/venv/lib/python3.7/site-packages/sklearn/linear_model/_logistic.py:764: ConvergenceWarning: lbfgs failed to converge (status=1):\n",
      "STOP: TOTAL NO. of ITERATIONS REACHED LIMIT.\n",
      "\n",
      "Increase the number of iterations (max_iter) or scale the data as shown in:\n",
      "    https://scikit-learn.org/stable/modules/preprocessing.html\n",
      "Please also refer to the documentation for alternative solver options:\n",
      "    https://scikit-learn.org/stable/modules/linear_model.html#logistic-regression\n",
      "  extra_warning_msg=_LOGISTIC_SOLVER_CONVERGENCE_MSG)\n",
      "emp.var.rate     -1.159004\n",
      "duration          1.150195\n",
      "cons.price.idx    0.679886\n",
      "contact           0.431278\n",
      "pdays            -0.340701\n",
      "cons.conf.idx     0.250477\n",
      "nr.employed      -0.238953\n",
      "default          -0.176395\n",
      "previous         -0.159186\n",
      "dtype: float64\n"
     ]
    },
    {
     "data": {
      "text/plain": [
       "(0.5070298769771528, 0.5085557837097878)"
      ]
     },
     "execution_count": 170,
     "metadata": {},
     "output_type": "execute_result"
    }
   ],
   "source": [
    "columns = ['emp.var.rate', 'duration', 'cons.price.idx','nr.employed', 'contact','pdays','cons.conf.idx','default','previous','y']\n",
    "model = fit_model_to( df_training.loc[:,columns] )\n",
    "score_model( model, df_training.loc[:,columns] ), score_model( model, df_validation.loc[:,columns] )"
   ]
  },
  {
   "cell_type": "markdown",
   "metadata": {
    "cell_id": "00021-6d779cc0-9705-4743-867a-bfc88c4d15cc",
    "deepnote_cell_type": "markdown",
    "tags": []
   },
   "source": [
    "Here are the final predictors that we decided to keep after experimenting various combinations. "
   ]
  },
  {
   "cell_type": "code",
   "execution_count": 176,
   "metadata": {
    "cell_id": "00021-fe10f35d-7e9f-4ab9-8c2e-f1be23ced017",
    "deepnote_cell_type": "code",
    "execution_millis": 1,
    "execution_start": 1606923967753,
    "output_cleared": false,
    "source_hash": "5ded7423",
    "tags": []
   },
   "outputs": [],
   "source": [
    "import streamlit as st\n",
    "df_final = df.loc[:, columns]\n",
    "st.write(df_final.head())"
   ]
  },
  {
   "cell_type": "code",
   "execution_count": 174,
   "metadata": {
    "cell_id": "00021-5c22ff5f-0752-4917-984c-1efc19f03c1b",
    "deepnote_cell_type": "code",
    "execution_millis": 1215,
    "execution_start": 1606923521449,
    "output_cleared": false,
    "source_hash": "30fecbc6",
    "tags": []
   },
   "outputs": [
    {
     "data": {
      "image/png": "[encoded data removed]",
      "text/plain": [
       "<Figure size 432x288 with 2 Axes>"
      ]
     },
     "metadata": {
      "needs_background": "light"
     },
     "output_type": "display_data"
    }
   ],
   "source": [
    "import seaborn as sns\n",
    "import numpy as np\n",
    "import matplotlib.pyplot as plt\n",
    "correlation_coefficients = np.corrcoef(df_final, rowvar=False )\n",
    "sns.heatmap( correlation_coefficients, annot=True )\n",
    "plt.yticks( np.arange(10)+0.5, df_final.columns, rotation=0 )\n",
    "plt.xticks( np.arange(10)+0.5, df_final.columns, rotation=90 )\n",
    "plt.title('The correlation between term deposit subscription status and its predictors')\n",
    "st.pyplot(plt.gcf())"
   ]
  },
  {
   "cell_type": "code",
   "execution_count": null,
   "metadata": {
    "cell_id": "00024-52fcfcfc-28bc-46c0-998a-8f1d1a55450a",
    "deepnote_cell_type": "code",
    "tags": []
   },
   "outputs": [],
   "source": []
  },
  {
   "cell_type": "code",
   "execution_count": null,
   "metadata": {
    "cell_id": "00022-f2dfff7d-c519-448f-bb8c-5884710e9044",
    "deepnote_cell_type": "code",
    "tags": []
   },
   "outputs": [],
   "source": []
  }
 ],
 "metadata": {
  "deepnote_execution_queue": [],
  "deepnote_notebook_id": "cb8ea76b-3ef7-4fb3-8f7e-8458f9930cd2",
  "kernelspec": {
   "display_name": "Python 3",
   "language": "python",
   "name": "python3"
  },
  "language_info": {
   "codemirror_mode": {
    "name": "ipython",
    "version": 3
   },
   "file_extension": ".py",
   "mimetype": "text/x-python",
   "name": "python",
   "nbconvert_exporter": "python",
   "pygments_lexer": "ipython3",
   "version": "3.8.3"
  }
 },
 "nbformat": 4,
 "nbformat_minor": 2
}
